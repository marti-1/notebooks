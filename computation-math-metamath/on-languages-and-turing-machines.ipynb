{
 "cells": [
  {
   "cell_type": "markdown",
   "metadata": {},
   "source": [
    "## Type-3\n",
    "\n",
    "Generating a language of even numbers with Type-3 grammar (finite-state automaton). \n",
    "\n",
    "Hint: If a binary string ends with a '0' it is even."
   ]
  },
  {
   "cell_type": "code",
   "execution_count": 31,
   "metadata": {},
   "outputs": [
    {
     "data": {
      "text/plain": [
       "{'0',\n",
       " '00',\n",
       " '000',\n",
       " '0010',\n",
       " '010',\n",
       " '0100',\n",
       " '010110',\n",
       " '10',\n",
       " '100',\n",
       " '10010',\n",
       " '10011001100',\n",
       " '101000100',\n",
       " '1100'}"
      ]
     },
     "execution_count": 31,
     "metadata": {},
     "output_type": "execute_result"
    }
   ],
   "source": [
    "import random \n",
    "\n",
    "rules = {\n",
    "    'S': [('A', '0')],\n",
    "    'A': [('A', '1'), ('A', '0'), ('A', '')]\n",
    "}\n",
    "\n",
    "xs = 'S'\n",
    "\n",
    "def make(t, R):\n",
    "    r = t[0]\n",
    "    (r_, s) = random.choice(R[r])\n",
    "    if s == '':\n",
    "        t = t[1:]\n",
    "        return t\n",
    "    else:\n",
    "        t = s + t[1:]\n",
    "        t = r_ + t\n",
    "        return make(t, R)\n",
    "    \n",
    "\n",
    "set([make(xs, rules) for _ in range(30)])\n"
   ]
  },
  {
   "cell_type": "code",
   "execution_count": null,
   "metadata": {},
   "outputs": [],
   "source": [
    "dfa = {0:{'0':0, '1':1},\n",
    "       1:{'0':2, '1':0},\n",
    "       2:{'0':1, '1':2}}"
   ]
  },
  {
   "cell_type": "code",
   "execution_count": 6,
   "metadata": {},
   "outputs": [
    {
     "data": {
      "text/plain": [
       "True"
      ]
     },
     "execution_count": 6,
     "metadata": {},
     "output_type": "execute_result"
    }
   ],
   "source": [
    "def accepts(transitions,initial,accepting,tape):\n",
    "    state = initial\n",
    "    for c in tape:\n",
    "        state = transitions[state][c]\n",
    "    return state in accepting\n",
    "\n",
    "even = {\n",
    "    'EVEN': {'0': 'EVEN', '1': 'ODD'},\n",
    "    'ODD': {'0': 'EVEN', '1': 'ODD'}\n",
    "}\n",
    "\n",
    "accepts(even, 'EVEN', {'EVEN'}, '000')"
   ]
  },
  {
   "cell_type": "markdown",
   "metadata": {},
   "source": [
    "On the other hand an example of things that can't be decided is a set of polyndromes: ${\\displaystyle L=\\{a^{n}b^{n}|n>0\\}}$."
   ]
  },
  {
   "cell_type": "markdown",
   "metadata": {},
   "source": [
    "### NFA\n",
    "\n",
    "Resources:\n",
    "* [Non-Deterministic Automata - Computerphile](https://www.youtube.com/watch?v=NhWDVqR4tZc&t=330s&ab_channel=Computerphile)"
   ]
  },
  {
   "cell_type": "code",
   "execution_count": 28,
   "metadata": {},
   "outputs": [
    {
     "data": {
      "text/plain": [
       "True"
      ]
     },
     "execution_count": 28,
     "metadata": {},
     "output_type": "execute_result"
    }
   ],
   "source": [
    "import itertools\n",
    "\n",
    "# words s.t. the penultimate (previous to last) symbol is '1'\n",
    "nfa = {\n",
    "    0: {\n",
    "        '0': [0], \n",
    "        '1': [0, 1]\n",
    "    },\n",
    "    1: {\n",
    "        '0': [2],\n",
    "        '1': [2]\n",
    "    }\n",
    "}\n",
    "\n",
    "def nfa_accept(m, initial, accepting, tape):\n",
    "    def single_iteration(initial, tape):\n",
    "        \"\"\"\n",
    "        return a list of (state,tape) for a given machine and initial state\n",
    "        \"\"\"\n",
    "        acc = []\n",
    "        state = initial\n",
    "        c = tape[0]\n",
    "        if state not in m or c not in m[state]:\n",
    "            return False\n",
    "        states = m[state][c]\n",
    "        for s in states:\n",
    "            acc.append((s, tape[1:]))\n",
    "        return acc\n",
    "    \n",
    "    state_tape_list = [(initial, tape)]\n",
    "    while True:\n",
    "        temp = []\n",
    "        for u in state_tape_list:\n",
    "            si = single_iteration(*u)\n",
    "            if si is not False:\n",
    "                temp.append(si)\n",
    "        state_tape_list = list(itertools.chain(*temp))\n",
    "\n",
    "        # if in the state_tape_list there is a tuple s.t. state is accepting and the tape is empty -- terminate \n",
    "        if any([True for (_s, _t) in state_tape_list if _s in accepting and _t == '']):\n",
    "            return True\n",
    "        \n",
    "        # if all previous state_tape_list pairs went nowhere -- terminate\n",
    "        if len(state_tape_list) == 0:\n",
    "            return False\n",
    "        \n",
    "        # if all the tapes are empty, but we are not in the accepting state -- terminate\n",
    "        if all([_t == '' for (_, _t) in state_tape_list]):\n",
    "            return False\n",
    "\n",
    "nfa_accept(nfa, 0, {2}, '011010')"
   ]
  },
  {
   "cell_type": "markdown",
   "metadata": {},
   "source": [
    "## Type-2"
   ]
  },
  {
   "cell_type": "code",
   "execution_count": null,
   "metadata": {},
   "outputs": [],
   "source": [
    "foo = {\n",
    "    'p': {\n",
    "        ('0','Z'): ('p', 'AZ'),\n",
    "        ('0','A'): ('p', 'AA'),\n",
    "        ('B','Z'): ('q','Z')\n",
    "    },\n",
    "    'q': {\n",
    "        ('1', 'A'): ('q', ''),\n",
    "        ('0', 'A'): ('r', ''),\n",
    "        ('1','Z'): ('a', 'Z')\n",
    "    }\n",
    "}"
   ]
  }
 ],
 "metadata": {
  "kernelspec": {
   "display_name": "base",
   "language": "python",
   "name": "python3"
  },
  "language_info": {
   "codemirror_mode": {
    "name": "ipython",
    "version": 3
   },
   "file_extension": ".py",
   "mimetype": "text/x-python",
   "name": "python",
   "nbconvert_exporter": "python",
   "pygments_lexer": "ipython3",
   "version": "3.10.10"
  }
 },
 "nbformat": 4,
 "nbformat_minor": 2
}
